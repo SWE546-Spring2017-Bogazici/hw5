{
 "cells": [
  {
   "cell_type": "code",
   "execution_count": 4,
   "metadata": {
    "collapsed": false
   },
   "outputs": [],
   "source": [
    "%matplotlib inline\n",
    "\n",
    "import scipy as sc\n",
    "import numpy as np\n",
    "import pandas as pd\n",
    "import matplotlib as mpl\n",
    "import matplotlib.pylab as plt\n",
    "\n",
    "df_arac = pd.read_csv(u'data/arac.csv',sep=';')\n",
    "df_arac_reduced = df_arac\n",
    "\n",
    "df_arac_reduced = df_arac_reduced[df_arac_reduced.Year != 2015]\n",
    "df_arac_reduced = df_arac_reduced[df_arac_reduced.Year != 2014]\n",
    "#df_arac_reduced[['Car','Year']]\n",
    "\n",
    "x = np.matrix(df_arac_reduced.Year[0:]).T\n",
    "y = np.matrix(df_arac_reduced.Car[0:]).T/1000000."
   ]
  },
  {
   "cell_type": "code",
   "execution_count": 25,
   "metadata": {
    "collapsed": false
   },
   "outputs": [],
   "source": [
    "def predict_and_compare(year_to_predict, polynomial_degree):\n",
    "    A = np.hstack((np.power(x,i) for i in range(polynomial_degree)))\n",
    "    \n",
    "    w_ls,E,rank,sigma = np.linalg.lstsq(A, y)\n",
    "    \n",
    "    predicted_car_count = 0\n",
    "    for i in range(0, polynomial_degree):\n",
    "        predicted_car_count += np.asscalar(w_ls[i]) * (year_to_predict**i)                            \n",
    "    predicted_car_count = int(predicted_car_count * 1000000)\n",
    "    \n",
    "    actual_car_count = df_arac[df_arac.Year == year_to_predict].Car[0:].iloc[0]\n",
    "    difference = abs(actual_car_count - predicted_car_count)\n",
    "    print(\"year:\",year_to_predict, \"degree:\", polynomial_degree, \"predicted_car_count:\", predicted_car_count, \"difference:\", difference)"
   ]
  },
  {
   "cell_type": "code",
   "execution_count": 26,
   "metadata": {
    "collapsed": false
   },
   "outputs": [
    {
     "name": "stdout",
     "output_type": "stream",
     "text": [
      "actual_car_count_2015: 10509258\n",
      "year: 2015 degree: 1 predicted_car_count: 2768652 difference: 7740606\n",
      "year: 2015 degree: 2 predicted_car_count: 7389290 difference: 3119968\n",
      "year: 2015 degree: 3 predicted_car_count: 9722965 difference: 786293\n",
      "year: 2015 degree: 4 predicted_car_count: 9743849 difference: 765409\n",
      "year: 2015 degree: 5 predicted_car_count: 9764347 difference: 744911\n",
      "year: 2015 degree: 6 predicted_car_count: 9784522 difference: 724736\n",
      "year: 2015 degree: 7 predicted_car_count: 217264458463 difference: 217253949205\n",
      "year: 2015 degree: 8 predicted_car_count: 192496917435707 difference: 192496906926449\n",
      "year: 2015 degree: 9 predicted_car_count: 258552253678990400 difference: 258552253668481142\n"
     ]
    },
    {
     "name": "stderr",
     "output_type": "stream",
     "text": [
      "Z:\\part1\\Continuum\\Anaconda3\\lib\\site-packages\\ipykernel\\__main__.py:2: RuntimeWarning: invalid value encountered in power\n",
      "  from ipykernel import kernelapp as app\n"
     ]
    }
   ],
   "source": [
    "actual_car_count_2015 = df_arac[df_arac.Year == 2015].Car[0:].iloc[0]\n",
    "print(\"actual_car_count_2015:\", actual_car_count_2015)\n",
    "for degree in range (1,10):\n",
    "    predict_and_compare(2015,degree)"
   ]
  },
  {
   "cell_type": "code",
   "execution_count": 27,
   "metadata": {
    "collapsed": false,
    "scrolled": true
   },
   "outputs": [
    {
     "name": "stdout",
     "output_type": "stream",
     "text": [
      "actual_car_count_2014: 9857915\n",
      "year: 2014 degree: 1 predicted_car_count: 2768652 difference: 7089263\n",
      "year: 2014 degree: 2 predicted_car_count: 7208088 difference: 2649827\n",
      "year: 2014 degree: 3 predicted_car_count: 9287181 difference: 570734\n",
      "year: 2014 degree: 4 predicted_car_count: 9304075 difference: 553840\n",
      "year: 2014 degree: 5 predicted_car_count: 9320618 difference: 537297\n",
      "year: 2014 degree: 6 predicted_car_count: 9336878 difference: 521037\n",
      "year: 2014 degree: 7 predicted_car_count: 216696099145 difference: 216686241230\n",
      "year: 2014 degree: 8 predicted_car_count: 191829326491747 difference: 191829316633832\n",
      "year: 2014 degree: 9 predicted_car_count: 257527588335910144 difference: 257527588326052229\n"
     ]
    },
    {
     "name": "stderr",
     "output_type": "stream",
     "text": [
      "Z:\\part1\\Continuum\\Anaconda3\\lib\\site-packages\\ipykernel\\__main__.py:2: RuntimeWarning: invalid value encountered in power\n",
      "  from ipykernel import kernelapp as app\n"
     ]
    }
   ],
   "source": [
    "actual_car_count_2014 = df_arac[df_arac.Year == 2014].Car[0:].iloc[0]\n",
    "print(\"actual_car_count_2014:\", actual_car_count_2014)\n",
    "for degree in range (1,10):\n",
    "    predict_and_compare(2014,degree)"
   ]
  },
  {
   "cell_type": "markdown",
   "metadata": {},
   "source": [
    "# Results above show that polynomial degree=6 is the optimal degree which minimizes the error."
   ]
  },
  {
   "cell_type": "code",
   "execution_count": null,
   "metadata": {
    "collapsed": true
   },
   "outputs": [],
   "source": []
  }
 ],
 "metadata": {
  "kernelspec": {
   "display_name": "Python 3",
   "language": "python",
   "name": "python3"
  },
  "language_info": {
   "codemirror_mode": {
    "name": "ipython",
    "version": 3
   },
   "file_extension": ".py",
   "mimetype": "text/x-python",
   "name": "python",
   "nbconvert_exporter": "python",
   "pygments_lexer": "ipython3",
   "version": "3.6.0"
  }
 },
 "nbformat": 4,
 "nbformat_minor": 2
}
